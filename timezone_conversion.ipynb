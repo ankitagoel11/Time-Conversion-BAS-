{
 "cells": [
  {
   "cell_type": "code",
   "execution_count": null,
   "metadata": {},
   "outputs": [],
   "source": [
    "2017-08-01T00:00:00-07:00;2018-07-31T00:00:00-07:00\""
   ]
  },
  {
   "cell_type": "code",
   "execution_count": 13,
   "metadata": {},
   "outputs": [
    {
     "data": {
      "text/plain": [
       "datetime.datetime(2011, 12, 22, 0, 0)"
      ]
     },
     "execution_count": 13,
     "metadata": {},
     "output_type": "execute_result"
    }
   ],
   "source": [
    "datetime.datetime.strptime('22/12/2011', '%d/%m/%Y')"
   ]
  },
  {
   "cell_type": "code",
   "execution_count": 14,
   "metadata": {},
   "outputs": [
    {
     "name": "stdout",
     "output_type": "stream",
     "text": [
      "2011-12-22T00:00:00-08:00\n",
      "2012-12-22T00:00:00-08:00\n",
      "2011-12-22T00:00:00-08:00;2012-12-22T00:00:00-08:00\n"
     ]
    }
   ],
   "source": [
    "timezone_chosen = pytz.timezone('US/Pacific')\n",
    "#start_date = '22/12/2011'\n",
    "start_date_1 = datetime.datetime.strptime('22/12/2011', '%d/%m/%Y')\n",
    "start_date_timezone_specific = timezone_chosen.localize(start_date_1)\n",
    "start_date_ISO = start_date_timezone_specific.isoformat()\n",
    "print (start_date_ISO)\n",
    "\n",
    "end_date1 = datetime.datetime.strptime('22/12/2012', '%d/%m/%Y')\n",
    "end_date_timezone_specific = timezone_chosen.localize(end_date1)\n",
    "end_date_ISO = end_date_timezone_specific.isoformat()\n",
    "\n",
    "niagara_timeperiod_input = start_date_ISO + ';' +end_date_ISO\n",
    "print (end_date_timezone_specific.isoformat())\n",
    "print (niagara_timeperiod_input)"
   ]
  },
  {
   "cell_type": "code",
   "execution_count": 15,
   "metadata": {},
   "outputs": [],
   "source": [
    "import datetime\n",
    "import pytz\n",
    "\n",
    "def niagara_timeperiod (start_date, end_date, timezone='US/Pacific'):\n",
    "\n",
    "    timezone_chosen = pytz.timezone(timezone)\n",
    "    start_date_1 = datetime.datetime.strptime(start_date, '%d/%m/%Y')\n",
    "    start_date_timezone_specific = timezone_chosen.localize(start_date_1)\n",
    "    start_date_ISO = start_date_timezone_specific.isoformat()\n",
    "\n",
    "    end_date1 = datetime.datetime.strptime(end_date, '%d/%m/%Y')\n",
    "    end_date_timezone_specific = timezone_chosen.localize(end_date1)\n",
    "    end_date_ISO = end_date_timezone_specific.isoformat()\n",
    "\n",
    "    niagara_timeperiod_input = start_date_ISO + ';' +end_date_ISO\n",
    "    return niagara_timeperiod_input"
   ]
  },
  {
   "cell_type": "code",
   "execution_count": 16,
   "metadata": {},
   "outputs": [
    {
     "data": {
      "text/plain": [
       "'2004-12-12T00:00:00-08:00;2008-01-01T00:00:00-08:00'"
      ]
     },
     "execution_count": 16,
     "metadata": {},
     "output_type": "execute_result"
    }
   ],
   "source": [
    "niagara_timeperiod(start_date='12/12/2004', end_date='1/1/2008')"
   ]
  },
  {
   "cell_type": "code",
   "execution_count": null,
   "metadata": {},
   "outputs": [],
   "source": []
  }
 ],
 "metadata": {
  "kernelspec": {
   "display_name": "Python [conda env:PythonData]",
   "language": "python",
   "name": "conda-env-PythonData-py"
  },
  "language_info": {
   "codemirror_mode": {
    "name": "ipython",
    "version": 3
   },
   "file_extension": ".py",
   "mimetype": "text/x-python",
   "name": "python",
   "nbconvert_exporter": "python",
   "pygments_lexer": "ipython3",
   "version": "3.6.5"
  }
 },
 "nbformat": 4,
 "nbformat_minor": 2
}
